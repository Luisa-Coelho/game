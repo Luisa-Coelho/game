{
 "cells": [
  {
   "cell_type": "code",
   "execution_count": 18,
   "id": "2d44de15",
   "metadata": {},
   "outputs": [
    {
     "name": "stdout",
     "output_type": "stream",
     "text": [
      "Welcome! How many players are participating in this drill?2\n",
      " Please insert character name 1\n",
      "li\n",
      " Please insert character name 2\n",
      "fa\n"
     ]
    }
   ],
   "source": [
    "class Players:\n",
    "    def __init__(self, name):\n",
    "        self.name = name\n",
    "        \n",
    "    def run(self):\n",
    "        print('run')\n",
    "\n",
    "qty = int(input(\"Welcome! How many players are participating in this drill?\"))\n",
    "\n",
    "\n",
    "for i in range(1, (qty+1)):\n",
    "    name = input(f\" Please insert character name {i}\\n\")\n",
    "    globals()['play%s' % i] = Players(name)\n",
    "\n",
    "    ## to incorporate\n",
    "###d = {}\n",
    "##for x in range(1, 10):\n",
    "   ## d[\"string{0}\".format(x)] = Players(name)\n",
    "\n",
    " \n",
    "\n"
   ]
  },
  {
   "cell_type": "code",
   "execution_count": 19,
   "id": "9598c190",
   "metadata": {},
   "outputs": [
    {
     "data": {
      "text/plain": [
       "<__main__.Players at 0x2826468a220>"
      ]
     },
     "execution_count": 19,
     "metadata": {},
     "output_type": "execute_result"
    }
   ],
   "source": []
  },
  {
   "cell_type": "code",
   "execution_count": null,
   "id": "44374b03",
   "metadata": {},
   "outputs": [],
   "source": []
  }
 ],
 "metadata": {
  "kernelspec": {
   "display_name": "Python 3",
   "language": "python",
   "name": "python3"
  },
  "language_info": {
   "codemirror_mode": {
    "name": "ipython",
    "version": 3
   },
   "file_extension": ".py",
   "mimetype": "text/x-python",
   "name": "python",
   "nbconvert_exporter": "python",
   "pygments_lexer": "ipython3",
   "version": "3.8.8"
  }
 },
 "nbformat": 4,
 "nbformat_minor": 5
}

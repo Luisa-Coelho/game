{
 "cells": [
  {
   "cell_type": "code",
   "execution_count": 17,
   "id": "2d44de15",
   "metadata": {},
   "outputs": [
    {
     "name": "stdout",
     "output_type": "stream",
     "text": [
      "Welcome! How many players are participating in this drill?2\n",
      " Please insert character name 1\n",
      "lu\n",
      " Please insert character name 2\n",
      "ga\n"
     ]
    }
   ],
   "source": [
    "class Players:\n",
    "    def __init__(self, name, power = None, skill = None, weakness = None):\n",
    "        self.name = name\n",
    "        self.power = power\n",
    "        self.weakness = weakness\n",
    "        \n",
    "    def run(self):\n",
    "        print('run')\n",
    "\n",
    "qty = int(input(\"Welcome! How many players are participating in this drill?\"))\n",
    "\n",
    "\n",
    "for i in range(1, (qty+1)):\n",
    "    name = input(f\" Please insert character name {i}\\n\")\n",
    "    globals()['play%s' % i] = Players(name)\n",
    "    \n",
    "    \n",
    "\n",
    "\n",
    "    ## to incorporate\n",
    "###d = {}\n",
    "##for x in range(1, 10):\n",
    "   ## d[\"string{0}\".format(x)] = Players(name)\n",
    "\n",
    " \n",
    "\n"
   ]
  },
  {
   "cell_type": "code",
   "execution_count": 21,
   "id": "9598c190",
   "metadata": {},
   "outputs": [
    {
     "name": "stdout",
     "output_type": "stream",
     "text": [
      "Where is your habitat1\n"
     ]
    }
   ],
   "source": [
    "#### GAME MAP\n",
    "#!pip install pillow colr\n",
    "import os\n",
    "from PIL import Image\n",
    "from colr import Colr\n",
    "\n",
    "game_map = Image.open('img/map.png')\n",
    "game_map\n",
    "\n",
    "### pause\n",
    "os.system('pause')\n",
    "\n",
    "birth = int(input(\"Where is your habitat\"))\n",
    "\n",
    "for i in range(1, (qty+1)):\n",
    "    if birth == 1:\n",
    "        globals()['play%s' % i].power = 90\n",
    "        globals()['play%s' % i].weakness = 90\n",
    "        globals()['play%s' % i].skill = 60\n",
    "    if birth == 2:\n",
    "        globals()['play%s' % i].power = 10\n",
    "        globals()['play%s' % i].weakness = 25\n",
    "        globals()['play%s' % i].skill = 80\n",
    "    if birth == 3:\n",
    "        globals()['play%s' % i].power = 15\n",
    "        globals()['play%s' % i].weakness = 0\n",
    "        globals()['play%s' % i].skill = 5\n",
    "    if birth == 4:\n",
    "        globals()['play%s' % i].power = 35\n",
    "        globals()['play%s' % i].weakness = 30\n",
    "        globals()['play%s' % i].skill = 60\n",
    "\n",
    "\n"
   ]
  },
  {
   "cell_type": "code",
   "execution_count": 19,
   "id": "44374b03",
   "metadata": {},
   "outputs": [
    {
     "data": {
      "text/plain": [
       "50"
      ]
     },
     "execution_count": 19,
     "metadata": {},
     "output_type": "execute_result"
    }
   ],
   "source": [
    "play2.power"
   ]
  },
  {
   "cell_type": "code",
   "execution_count": null,
   "id": "b3d6e511",
   "metadata": {},
   "outputs": [],
   "source": [
    "#### Pattern to walk in geographic coordinates\n",
    "\n",
    "\n",
    "# Python program to calculate geographic\n",
    "# coordinates of places using google\n",
    "# geocoding API\n",
    " \n",
    "# importing required modules\n",
    "import requests, json\n",
    " \n",
    "# enter your api key here\n",
    "api_key = 'Your_api_key'\n",
    " \n",
    "# url variable store url\n",
    "url = 'https://maps.googleapis.com/maps/api/geocode/json?'\n",
    " \n",
    "# take place as input\n",
    "place = input()\n",
    " \n",
    "# get method of requests module\n",
    "# return response object\n",
    "res_ob = requests.get(url + 'address =' +\n",
    "                place + '&key =' + api_key)\n",
    " \n",
    "# json method of response object\n",
    "# convert json format data\n",
    "# into python format data.\n",
    "x = res_ob.json()\n",
    " \n",
    "# print the value of x\n",
    "print(x)\n",
    "\n",
    "\n",
    "##### \n",
    "#MAP = -5 -4 -3 -2 -1  0  1  2  3   4  5\n",
    "#    1  a  b  c  d  e  f  g  h  i   k  l\n",
    "#    2  m  n  o  p  q  r  s  t  u   v  x\n",
    "#    3  w  y  z az  by cw dx ev fu  gt hs\n",
    "#    4 ir kq lp mo nn om  pl qk ri  sh tg\n",
    "#    5 uf ve xd wc yb za  A  B  C D  E  F\n",
    "#    0 G  H  I  J  K  L   M  N  O P  Q  R\n",
    "#   -1 S  T  U  V  X  W  Y   Z AZ BY CW DX\n",
    "#   -2 EV FU GT HS IR KQ LP MO NN OM PL QK \n",
    "#   -3 RI SH TG UF VE XD WC YB ZA aa bb cc\n",
    "#   -4 dd ee ff gg hh ii jj kk ll mm oo pp\n",
    "#   -5 qq rr ss tt uu vv xx ww yy zz"
   ]
  }
 ],
 "metadata": {
  "kernelspec": {
   "display_name": "Python 3",
   "language": "python",
   "name": "python3"
  },
  "language_info": {
   "codemirror_mode": {
    "name": "ipython",
    "version": 3
   },
   "file_extension": ".py",
   "mimetype": "text/x-python",
   "name": "python",
   "nbconvert_exporter": "python",
   "pygments_lexer": "ipython3",
   "version": "3.8.8"
  }
 },
 "nbformat": 4,
 "nbformat_minor": 5
}

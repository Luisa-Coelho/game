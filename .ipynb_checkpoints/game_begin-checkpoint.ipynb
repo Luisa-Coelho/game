{
 "cells": [
  {
   "cell_type": "code",
   "execution_count": 17,
   "id": "2d44de15",
   "metadata": {},
   "outputs": [
    {
     "name": "stdout",
     "output_type": "stream",
     "text": [
      "Welcome! How many players are participating in this drill?2\n",
      " Please insert character name 1\n",
      "lu\n",
      " Please insert character name 2\n",
      "ga\n"
     ]
    }
   ],
   "source": [
    "class Players:\n",
    "    def __init__(self, name, power = None, skill = None, weakness = None):\n",
    "        self.name = name\n",
    "        self.power = power\n",
    "        self.weakness = weakness\n",
    "        \n",
    "    def run(self):\n",
    "        print('run')\n",
    "\n",
    "qty = int(input(\"Welcome! How many players are participating in this drill?\"))\n",
    "\n",
    "\n",
    "for i in range(1, (qty+1)):\n",
    "    name = input(f\" Please insert character name {i}\\n\")\n",
    "    globals()['play%s' % i] = Players(name)\n",
    "    \n",
    "    \n",
    "\n",
    "\n",
    "    ## to incorporate\n",
    "###d = {}\n",
    "##for x in range(1, 10):\n",
    "   ## d[\"string{0}\".format(x)] = Players(name)\n",
    "\n",
    " \n",
    "\n"
   ]
  },
  {
   "cell_type": "code",
   "execution_count": 21,
   "id": "9598c190",
   "metadata": {},
   "outputs": [
    {
     "name": "stdout",
     "output_type": "stream",
     "text": [
      "Where is your habitat1\n"
     ]
    }
   ],
   "source": [
    "#### GAME MAP\n",
    "#!pip install pillow colr\n",
    "import os\n",
    "from PIL import Image\n",
    "from colr import Colr\n",
    "\n",
    "game_map = Image.open('img/map.png')\n",
    "game_map\n",
    "\n",
    "### pause\n",
    "os.system('pause')\n",
    "\n",
    "birth = int(input(\"Where is your habitat\"))\n",
    "\n",
    "for i in range(1, (qty+1)):\n",
    "    if birth == 1:\n",
    "        globals()['play%s' % i].power = 90\n",
    "        globals()['play%s' % i].weakness = 90\n",
    "        globals()['play%s' % i].skill = 60\n",
    "    if birth == 2:\n",
    "        globals()['play%s' % i].power = 10\n",
    "        globals()['play%s' % i].weakness = 25\n",
    "        globals()['play%s' % i].skill = 80\n",
    "    if birth == 3:\n",
    "        globals()['play%s' % i].power = 15\n",
    "        globals()['play%s' % i].weakness = 0\n",
    "        globals()['play%s' % i].skill = 5\n",
    "    if birth == 4:\n",
    "        globals()['play%s' % i].power = 35\n",
    "        globals()['play%s' % i].weakness = 30\n",
    "        globals()['play%s' % i].skill = 60\n",
    "\n",
    "\n"
   ]
  },
  {
   "cell_type": "code",
   "execution_count": 19,
   "id": "44374b03",
   "metadata": {},
   "outputs": [
    {
     "data": {
      "text/plain": [
       "50"
      ]
     },
     "execution_count": 19,
     "metadata": {},
     "output_type": "execute_result"
    }
   ],
   "source": [
    "play2.power"
   ]
  },
  {
   "cell_type": "code",
   "execution_count": null,
   "id": "b3d6e511",
   "metadata": {},
   "outputs": [],
   "source": []
  }
 ],
 "metadata": {
  "kernelspec": {
   "display_name": "Python 3",
   "language": "python",
   "name": "python3"
  },
  "language_info": {
   "codemirror_mode": {
    "name": "ipython",
    "version": 3
   },
   "file_extension": ".py",
   "mimetype": "text/x-python",
   "name": "python",
   "nbconvert_exporter": "python",
   "pygments_lexer": "ipython3",
   "version": "3.8.8"
  }
 },
 "nbformat": 4,
 "nbformat_minor": 5
}
